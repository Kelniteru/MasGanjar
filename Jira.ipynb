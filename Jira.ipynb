{
  "nbformat": 4,
  "nbformat_minor": 0,
  "metadata": {
    "colab": {
      "provenance": [],
      "gpuType": "T4"
    },
    "kernelspec": {
      "name": "python3",
      "display_name": "Python 3"
    },
    "language_info": {
      "name": "python"
    },
    "accelerator": "GPU"
  },
  "cells": [
    {
      "cell_type": "code",
      "source": [
        "!pip install patool"
      ],
      "metadata": {
        "id": "vXCuJWQScv2-"
      },
      "execution_count": null,
      "outputs": []
    },
    {
      "cell_type": "code",
      "execution_count": 2,
      "metadata": {
        "id": "HU3ZS9bXY8bV"
      },
      "outputs": [],
      "source": [
        "import tensorflow as tf\n",
        "\n",
        "import tensorflow.keras.utils as utils\n",
        "\n",
        "import tensorflow.keras.applications as applications\n",
        "\n",
        "import patoolib, os, warnings\n",
        "\n",
        "warnings.filterwarnings(\"ignore\")\n",
        "\n",
        "unrar = lambda url : patoolib.extract_archive(url, outdir=\".\")"
      ]
    },
    {
      "cell_type": "code",
      "source": [
        "url = \"/content/inputer.rar\"\n",
        "\n",
        "unrar(url)"
      ],
      "metadata": {
        "id": "WapXnS2VaHQS"
      },
      "execution_count": null,
      "outputs": []
    },
    {
      "cell_type": "code",
      "source": [
        "rooter = \"/content/image\"\n",
        "\n",
        "classes = os.listdir(rooter)\n",
        "\n",
        "classes"
      ],
      "metadata": {
        "id": "1aC2ElqobPHN",
        "colab": {
          "base_uri": "https://localhost:8080/"
        },
        "outputId": "50ab76a1-5c7e-4e1e-e047-4fda5dbfb10d"
      },
      "execution_count": 4,
      "outputs": [
        {
          "output_type": "execute_result",
          "data": {
            "text/plain": [
              "['pria', 'perempuan']"
            ]
          },
          "metadata": {},
          "execution_count": 4
        }
      ]
    },
    {
      "cell_type": "code",
      "source": [
        "i = len(os.listdir(os.path.join(rooter, \"pria\")))\n",
        "\n",
        "j = len(os.listdir(os.path.join(rooter, \"perempuan\")))\n",
        "\n",
        "total = i + j\n",
        "\n",
        "total"
      ],
      "metadata": {
        "id": "BbztKYHCdqvq",
        "colab": {
          "base_uri": "https://localhost:8080/"
        },
        "outputId": "1c791f26-cd9e-41fb-83be-4efd45b9dc7a"
      },
      "execution_count": 5,
      "outputs": [
        {
          "output_type": "execute_result",
          "data": {
            "text/plain": [
              "878"
            ]
          },
          "metadata": {},
          "execution_count": 5
        }
      ]
    },
    {
      "cell_type": "code",
      "source": [
        "subset = \"both\"; label = \"binary\"\n",
        "\n",
        "image = (160, 160); split = 0.15; random = 18\n",
        "\n",
        "orifile = utils.image_dataset_from_directory(\n",
        "  rooter,\n",
        "  seed = random,\n",
        "  subset = subset,\n",
        "  image_size = image,\n",
        "  label_mode = label,\n",
        "  batch_size = random,\n",
        "  validation_split = split\n",
        ")\n",
        "\n",
        "train, testi = orifile"
      ],
      "metadata": {
        "id": "ku1I9Xy0I6Zg"
      },
      "execution_count": null,
      "outputs": []
    },
    {
      "cell_type": "code",
      "source": [
        "input_shape = (160, 160, 3)\n",
        "\n",
        "ontrue = !False\n",
        "\n",
        "intnet = applications.EfficientNetB5(weights=\"imagenet\", include_top=False, input_shape=input_shape)\n",
        "\n",
        "for layer in intnet.layers[15:] : layer.trainable = ontrue"
      ],
      "metadata": {
        "id": "9vMG1HeSHvNz"
      },
      "execution_count": null,
      "outputs": []
    },
    {
      "cell_type": "code",
      "source": [
        "intnet.inputs[0]"
      ],
      "metadata": {
        "colab": {
          "base_uri": "https://localhost:8080/"
        },
        "id": "EwqS-gdwIEOw",
        "outputId": "93eda5c5-582e-4e60-ab52-03779072291a"
      },
      "execution_count": 8,
      "outputs": [
        {
          "output_type": "execute_result",
          "data": {
            "text/plain": [
              "<KerasTensor: shape=(None, 160, 160, 3) dtype=float32 (created by layer 'input_1')>"
            ]
          },
          "metadata": {},
          "execution_count": 8
        }
      ]
    },
    {
      "cell_type": "code",
      "source": [
        "intnet.outputs[0]"
      ],
      "metadata": {
        "colab": {
          "base_uri": "https://localhost:8080/"
        },
        "id": "EYsqvGMjIGc2",
        "outputId": "42a71ce7-54d7-4bdc-a5dc-a90404e8cae6"
      },
      "execution_count": 9,
      "outputs": [
        {
          "output_type": "execute_result",
          "data": {
            "text/plain": [
              "<KerasTensor: shape=(None, 5, 5, 2048) dtype=float32 (created by layer 'top_activation')>"
            ]
          },
          "metadata": {},
          "execution_count": 9
        }
      ]
    },
    {
      "cell_type": "code",
      "source": [
        "from tensorflow.keras.callbacks import Callback\n",
        "\n",
        "class Matrit(Callback):\n",
        "  def on_epoch_end(self, epoch, logs=None):\n",
        "    if logs.get(\"accuracy\") >= 0.90 and logs.get(\"val_accuracy\") >= 0.90:\n",
        "      self.model.stop_training = True\n",
        "\n",
        "callbacks = Matrit()"
      ],
      "metadata": {
        "id": "dCoWWeAJeiXQ"
      },
      "execution_count": 10,
      "outputs": []
    },
    {
      "cell_type": "code",
      "source": [
        "from tensorflow.keras.models import Model, Sequential\n",
        "\n",
        "from tensorflow.keras.layers import RandomFlip, RandomRotation, RandomZoom, RandomContrast, RandomTranslation\n",
        "\n",
        "intput = Sequential([\n",
        "  RandomFlip(\"horizontal_and_vertical\", input_shape=input_shape),\n",
        "  RandomRotation(0.2),\n",
        "  RandomZoom(0.2),\n",
        "  RandomContrast(0.2),\n",
        "  RandomTranslation(height_factor=0.2, width_factor=0.2)\n",
        "])"
      ],
      "metadata": {
        "id": "A1AXGjjkLQsY"
      },
      "execution_count": 11,
      "outputs": []
    },
    {
      "cell_type": "code",
      "source": [
        "from tensorflow.keras.layers import GlobalAveragePooling2D, Dense\n",
        "\n",
        "model = tf.keras.models.Sequential([\n",
        "  intput,\n",
        "  intnet,\n",
        "  tf.keras.layers.GlobalAveragePooling2D(),\n",
        "  tf.keras.layers.Dense(1, activation=\"sigmoid\")\n",
        "])"
      ],
      "metadata": {
        "id": "MNyhXYOEfDYJ"
      },
      "execution_count": 12,
      "outputs": []
    },
    {
      "cell_type": "code",
      "source": [
        "model.compile(optimizer=\"adam\", loss=\"binary_crossentropy\", metrics=[\"accuracy\"])"
      ],
      "metadata": {
        "id": "lHMnT6b9MyQo"
      },
      "execution_count": 13,
      "outputs": []
    },
    {
      "cell_type": "code",
      "source": [
        "plot = model.fit(train, validation_data=testi, epochs=10, callbacks=[callbacks])"
      ],
      "metadata": {
        "id": "ze-xUZUOMwzn"
      },
      "execution_count": null,
      "outputs": []
    },
    {
      "cell_type": "code",
      "source": [
        "model.evaluate(train)"
      ],
      "metadata": {
        "id": "8RSI_2rVf2r1",
        "colab": {
          "base_uri": "https://localhost:8080/"
        },
        "outputId": "d102733b-8980-44f3-95b2-aefaec48e2a4"
      },
      "execution_count": 15,
      "outputs": [
        {
          "output_type": "execute_result",
          "data": {
            "text/plain": [
              "[0.1774769127368927, 0.9558233022689819]"
            ]
          },
          "metadata": {},
          "execution_count": 15
        }
      ]
    },
    {
      "cell_type": "code",
      "source": [
        "model.evaluate(testi)"
      ],
      "metadata": {
        "id": "ChCIMnbvf33U",
        "colab": {
          "base_uri": "https://localhost:8080/"
        },
        "outputId": "a04d6630-10dd-4af6-ab64-91f726240083"
      },
      "execution_count": 16,
      "outputs": [
        {
          "output_type": "execute_result",
          "data": {
            "text/plain": [
              "[0.4115397334098816, 0.9312977194786072]"
            ]
          },
          "metadata": {},
          "execution_count": 16
        }
      ]
    },
    {
      "cell_type": "code",
      "source": [
        "plot = Helplot(plot, \"accuracy\")\n",
        "\n",
        "plot.trainplot"
      ],
      "metadata": {
        "id": "eV8jkSdNOSUN"
      },
      "execution_count": null,
      "outputs": []
    },
    {
      "cell_type": "code",
      "source": [
        "plot.testiplot"
      ],
      "metadata": {
        "id": "ajGFy2SIO0yC"
      },
      "execution_count": null,
      "outputs": []
    },
    {
      "cell_type": "code",
      "source": [
        "import numpy\n",
        "\n",
        "t = \"/content/image/perempuan/perempuan (280).jpg\"\n",
        "\n",
        "def output(t, input_shape=(160, 160, 3)):\n",
        "  i = utils.load_img(t, target_size=input_shape)\n",
        "  i = utils.img_to_array(i)\n",
        "  i = tf.expand_dims(i, axis=0)\n",
        "  j = model.predict(i, verbose=0)\n",
        "  result = \"Male\" if numpy.round(j) == 1 else \"Female\"\n",
        "  return result\n",
        "\n",
        "output(t)"
      ],
      "metadata": {
        "colab": {
          "base_uri": "https://localhost:8080/",
          "height": 35
        },
        "id": "PW5lOn0fO4P9",
        "outputId": "bbeecd58-2d47-4a21-d606-7c1313639df3"
      },
      "execution_count": 19,
      "outputs": [
        {
          "output_type": "execute_result",
          "data": {
            "text/plain": [
              "'Female'"
            ],
            "application/vnd.google.colaboratory.intrinsic+json": {
              "type": "string"
            }
          },
          "metadata": {},
          "execution_count": 19
        }
      ]
    },
    {
      "cell_type": "code",
      "source": [
        "t = \"/content/image/pria/pria (105).jpg\"\n",
        "\n",
        "output(t)"
      ],
      "metadata": {
        "colab": {
          "base_uri": "https://localhost:8080/",
          "height": 35
        },
        "id": "VQRuPiuQQajh",
        "outputId": "51746523-f121-43e7-ffb0-3b406c4cdf99"
      },
      "execution_count": 20,
      "outputs": [
        {
          "output_type": "execute_result",
          "data": {
            "text/plain": [
              "'Male'"
            ],
            "application/vnd.google.colaboratory.intrinsic+json": {
              "type": "string"
            }
          },
          "metadata": {},
          "execution_count": 20
        }
      ]
    },
    {
      "cell_type": "code",
      "source": [
        "t = \"/content/image/pria/pria (114).jpg\"\n",
        "\n",
        "output(t)"
      ],
      "metadata": {
        "colab": {
          "base_uri": "https://localhost:8080/",
          "height": 35
        },
        "id": "YRdbhngxTs13",
        "outputId": "26d5dfea-fe61-4a4a-bfff-47ae23ee6da2"
      },
      "execution_count": 21,
      "outputs": [
        {
          "output_type": "execute_result",
          "data": {
            "text/plain": [
              "'Male'"
            ],
            "application/vnd.google.colaboratory.intrinsic+json": {
              "type": "string"
            }
          },
          "metadata": {},
          "execution_count": 21
        }
      ]
    },
    {
      "cell_type": "code",
      "source": [
        "t = \"/content/image/pria/pria (126).jpg\"\n",
        "\n",
        "output(t)"
      ],
      "metadata": {
        "colab": {
          "base_uri": "https://localhost:8080/",
          "height": 35
        },
        "id": "IIAJ52ywT05C",
        "outputId": "839ee16e-dd82-49ec-c566-18f55d6d9e56"
      },
      "execution_count": 22,
      "outputs": [
        {
          "output_type": "execute_result",
          "data": {
            "text/plain": [
              "'Male'"
            ],
            "application/vnd.google.colaboratory.intrinsic+json": {
              "type": "string"
            }
          },
          "metadata": {},
          "execution_count": 22
        }
      ]
    },
    {
      "cell_type": "code",
      "source": [
        "t = \"/content/image/perempuan/perempuan (132).jpg\"\n",
        "\n",
        "output(t)"
      ],
      "metadata": {
        "colab": {
          "base_uri": "https://localhost:8080/",
          "height": 35
        },
        "id": "bzbHtP6OT9yp",
        "outputId": "0028cc53-66ae-4d49-acc1-d6970644e99d"
      },
      "execution_count": 23,
      "outputs": [
        {
          "output_type": "execute_result",
          "data": {
            "text/plain": [
              "'Female'"
            ],
            "application/vnd.google.colaboratory.intrinsic+json": {
              "type": "string"
            }
          },
          "metadata": {},
          "execution_count": 23
        }
      ]
    },
    {
      "cell_type": "code",
      "source": [
        "t = \"/content/image/perempuan/perempuan (138).jpg\"\n",
        "\n",
        "output(t)"
      ],
      "metadata": {
        "colab": {
          "base_uri": "https://localhost:8080/",
          "height": 35
        },
        "id": "j3peXNRnUDhN",
        "outputId": "da1ebc51-0f93-43f4-ac98-c4e720449d38"
      },
      "execution_count": 24,
      "outputs": [
        {
          "output_type": "execute_result",
          "data": {
            "text/plain": [
              "'Female'"
            ],
            "application/vnd.google.colaboratory.intrinsic+json": {
              "type": "string"
            }
          },
          "metadata": {},
          "execution_count": 24
        }
      ]
    }
  ]
}