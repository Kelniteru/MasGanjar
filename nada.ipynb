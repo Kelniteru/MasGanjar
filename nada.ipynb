{
  "nbformat": 4,
  "nbformat_minor": 0,
  "metadata": {
    "colab": {
      "provenance": [],
      "gpuType": "T4"
    },
    "kernelspec": {
      "name": "python3",
      "display_name": "Python 3"
    },
    "language_info": {
      "name": "python"
    },
    "accelerator": "GPU"
  },
  "cells": [
    {
      "cell_type": "code",
      "source": [
        "!pip install patool gdown --quiet\n",
        "\n",
        "import warnings, os, patoolib, gdown\n",
        "\n",
        "import tensorflow as tf\n",
        "\n",
        "warnings.filterwarnings(\"ignore\")"
      ],
      "metadata": {
        "id": "h8W9ogWYOWx7",
        "colab": {
          "base_uri": "https://localhost:8080/"
        },
        "outputId": "07233091-1a8e-4df4-fa32-f67d8584247d"
      },
      "execution_count": 1,
      "outputs": [
        {
          "output_type": "stream",
          "name": "stdout",
          "text": [
            "\u001b[?25l     \u001b[90m━━━━━━━━━━━━━━━━━━━━━━━━━━━━━━━━━━━━━━━━\u001b[0m \u001b[32m0.0/96.0 kB\u001b[0m \u001b[31m?\u001b[0m eta \u001b[36m-:--:--\u001b[0m\r\u001b[2K     \u001b[91m━━━━━━━━━━━━━━━━━━━━━━━━━━━━━━━━━━━━━━\u001b[0m\u001b[90m╺\u001b[0m\u001b[90m━\u001b[0m \u001b[32m92.2/96.0 kB\u001b[0m \u001b[31m2.9 MB/s\u001b[0m eta \u001b[36m0:00:01\u001b[0m\r\u001b[2K     \u001b[90m━━━━━━━━━━━━━━━━━━━━━━━━━━━━━━━━━━━━━━━━\u001b[0m \u001b[32m96.0/96.0 kB\u001b[0m \u001b[31m2.0 MB/s\u001b[0m eta \u001b[36m0:00:00\u001b[0m\n",
            "\u001b[?25h"
          ]
        }
      ]
    },
    {
      "cell_type": "code",
      "execution_count": 2,
      "metadata": {
        "id": "ha0MQirEGnp4",
        "outputId": "0c889916-09c8-4ddd-c076-f1c777d5a6e9",
        "colab": {
          "base_uri": "https://localhost:8080/",
          "height": 36
        }
      },
      "outputs": [
        {
          "output_type": "execute_result",
          "data": {
            "text/plain": [
              "'inputer.rar'"
            ],
            "application/vnd.google.colaboratory.intrinsic+json": {
              "type": "string"
            }
          },
          "metadata": {},
          "execution_count": 2
        }
      ],
      "source": [
        "url = \"https://drive.google.com/uc?id=1su3tKsJD0pp7FVaDEjr3vVLHfaN1cCLC\"\n",
        "\n",
        "root = \"inputer.rar\"\n",
        "\n",
        "ontrue = !False\n",
        "\n",
        "gdown.download(url, root, quiet=ontrue)"
      ]
    },
    {
      "cell_type": "code",
      "source": [
        "root = \"inputer.rar\"\n",
        "\n",
        "patoolib.extract_archive(root, outdir=\".\", verbosity=-1)"
      ],
      "metadata": {
        "id": "Wcmy1Q2vgwfA",
        "outputId": "f62df03d-d9d2-464c-8f17-65f6342ddef3",
        "colab": {
          "base_uri": "https://localhost:8080/",
          "height": 36
        }
      },
      "execution_count": 3,
      "outputs": [
        {
          "output_type": "execute_result",
          "data": {
            "text/plain": [
              "'.'"
            ],
            "application/vnd.google.colaboratory.intrinsic+json": {
              "type": "string"
            }
          },
          "metadata": {},
          "execution_count": 3
        }
      ]
    },
    {
      "cell_type": "code",
      "source": [
        "rooter = \"/content/image\"\n",
        "\n",
        "outlen = os.listdir(rooter)\n",
        "\n",
        "outlen"
      ],
      "metadata": {
        "id": "Fy8hAGDAQ6Ou",
        "colab": {
          "base_uri": "https://localhost:8080/"
        },
        "outputId": "d4868ef3-b798-4940-b971-bc09b98ec41c"
      },
      "execution_count": 4,
      "outputs": [
        {
          "output_type": "execute_result",
          "data": {
            "text/plain": [
              "['Perempuan', 'Pria']"
            ]
          },
          "metadata": {},
          "execution_count": 4
        }
      ]
    },
    {
      "cell_type": "code",
      "source": [
        "import tensorflow.keras.applications as applications\n",
        "\n",
        "input_shape = (224, 224, 3); classes = len(outlen)\n",
        "\n",
        "intnet = applications.EfficientNetB6(include_top=False, weights='imagenet', input_shape=input_shape, classes=classes)"
      ],
      "metadata": {
        "id": "x5gqfEGTPAqT",
        "colab": {
          "base_uri": "https://localhost:8080/"
        },
        "outputId": "778a3659-31d8-4771-8ea3-4eb8f82ccfe8"
      },
      "execution_count": 5,
      "outputs": [
        {
          "output_type": "stream",
          "name": "stdout",
          "text": [
            "Downloading data from https://storage.googleapis.com/keras-applications/efficientnetb6_notop.h5\n",
            "165234480/165234480 [==============================] - 1s 0us/step\n"
          ]
        }
      ]
    },
    {
      "cell_type": "code",
      "source": [
        "intnet.inputs[0]"
      ],
      "metadata": {
        "colab": {
          "base_uri": "https://localhost:8080/"
        },
        "id": "n8oisv5sPU-R",
        "outputId": "607c98a6-afb2-438c-81b5-b7e1386965ce"
      },
      "execution_count": 6,
      "outputs": [
        {
          "output_type": "execute_result",
          "data": {
            "text/plain": [
              "<KerasTensor: shape=(None, 224, 224, 3) dtype=float32 (created by layer 'input_1')>"
            ]
          },
          "metadata": {},
          "execution_count": 6
        }
      ]
    },
    {
      "cell_type": "code",
      "source": [
        "intnet.outputs[0]"
      ],
      "metadata": {
        "colab": {
          "base_uri": "https://localhost:8080/"
        },
        "id": "2WCSTVMMPV_0",
        "outputId": "d189e3e0-e9e2-46d6-e444-f08056c4d4ea"
      },
      "execution_count": 7,
      "outputs": [
        {
          "output_type": "execute_result",
          "data": {
            "text/plain": [
              "<KerasTensor: shape=(None, 7, 7, 2304) dtype=float32 (created by layer 'top_activation')>"
            ]
          },
          "metadata": {},
          "execution_count": 7
        }
      ]
    },
    {
      "cell_type": "code",
      "source": [
        "from struct import unpack\n",
        "\n",
        "marker_mapping = {\n",
        "    0xffd8: \"Start of Image\",\n",
        "    0xffe0: \"Application Default Header\",\n",
        "    0xffdb: \"Quantization Table\",\n",
        "    0xffc0: \"Start of Frame\",\n",
        "    0xffc4: \"Define Huffman Table\",\n",
        "    0xffda: \"Start of Scan\",\n",
        "    0xffd9: \"End of Image\"\n",
        "}\n",
        "\n",
        "\n",
        "class JPEG:\n",
        "    def __init__(self, image_file):\n",
        "        with open(image_file, 'rb') as f:\n",
        "            self.img_data = f.read()\n",
        "\n",
        "    def decode(self):\n",
        "        data = self.img_data\n",
        "        while(True):\n",
        "            marker, = unpack(\">H\", data[0:2])\n",
        "            # print(marker_mapping.get(marker))\n",
        "            if marker == 0xffd8:\n",
        "                data = data[2:]\n",
        "            elif marker == 0xffd9:\n",
        "                return\n",
        "            elif marker == 0xffda:\n",
        "                data = data[-2:]\n",
        "            else:\n",
        "                lenchunk, = unpack(\">H\", data[2:4])\n",
        "                data = data[2+lenchunk:]\n",
        "            if len(data)==0:\n",
        "                break\n",
        "\n",
        "\n",
        "total = 0\n",
        "\n",
        "for img in os.listdir(rooter):\n",
        "  roti = os.path.join(rooter,img)\n",
        "  for image in os.listdir(roti):\n",
        "    imager = os.path.join(roti,image)\n",
        "    image = JPEG(imager)\n",
        "    try:\n",
        "      image.decode()\n",
        "    except:\n",
        "      os.remove(imager)\n",
        "      total += 1\n",
        "\n",
        "total"
      ],
      "metadata": {
        "colab": {
          "base_uri": "https://localhost:8080/"
        },
        "id": "MsIEzyxdkiqI",
        "outputId": "2e2e46e2-24ec-4e4d-cfb8-6edb50d85bfa"
      },
      "execution_count": 8,
      "outputs": [
        {
          "output_type": "execute_result",
          "data": {
            "text/plain": [
              "340"
            ]
          },
          "metadata": {},
          "execution_count": 8
        }
      ]
    },
    {
      "cell_type": "code",
      "source": [
        "i = os.listdir(os.path.join(rooter, \"Pria\"))\n",
        "\n",
        "len(i)"
      ],
      "metadata": {
        "colab": {
          "base_uri": "https://localhost:8080/"
        },
        "id": "WhUvrqi6zyIi",
        "outputId": "ffdec9b9-4f11-4190-b5ae-915839c88d1f"
      },
      "execution_count": 9,
      "outputs": [
        {
          "output_type": "execute_result",
          "data": {
            "text/plain": [
              "461"
            ]
          },
          "metadata": {},
          "execution_count": 9
        }
      ]
    },
    {
      "cell_type": "code",
      "source": [
        "i = os.listdir(os.path.join(rooter, \"Perempuan\"))\n",
        "\n",
        "len(i)"
      ],
      "metadata": {
        "colab": {
          "base_uri": "https://localhost:8080/"
        },
        "id": "m3j-A2yRz2WR",
        "outputId": "f7c58cf6-9c04-4b5f-b640-1a3de97fb8b3"
      },
      "execution_count": 10,
      "outputs": [
        {
          "output_type": "execute_result",
          "data": {
            "text/plain": [
              "417"
            ]
          },
          "metadata": {},
          "execution_count": 10
        }
      ]
    },
    {
      "cell_type": "code",
      "source": [
        "import tensorflow.keras.utils as utils\n",
        "\n",
        "orifile = utils.image_dataset_from_directory(\n",
        "    rooter, subset=\"both\",\n",
        "    seed=10, image_size=(224, 224),\n",
        "    validation_split=0.1,\n",
        "    batch_size=18, label_mode=\"binary\")\n",
        "\n",
        "train, testi = orifile"
      ],
      "metadata": {
        "colab": {
          "base_uri": "https://localhost:8080/"
        },
        "id": "ld7HFFclz5Ak",
        "outputId": "ceca33c0-eb2a-446e-e4ab-59b8b1e6893a"
      },
      "execution_count": 11,
      "outputs": [
        {
          "output_type": "stream",
          "name": "stdout",
          "text": [
            "Found 878 files belonging to 2 classes.\n",
            "Using 791 files for training.\n",
            "Using 87 files for validation.\n"
          ]
        }
      ]
    },
    {
      "cell_type": "code",
      "source": [
        "for layer in intnet.layers[15:]:\n",
        "  layer.trainable = True"
      ],
      "metadata": {
        "id": "wvtFhsNo1hWa"
      },
      "execution_count": 12,
      "outputs": []
    },
    {
      "cell_type": "code",
      "source": [
        "import tensorflow as tf\n",
        "\n",
        "class Matrit(tf.keras.callbacks.Callback):\n",
        "  def on_epoch_end(self, epoch, logs=None):\n",
        "    if logs.get(\"accuracy\") >= 0.85 and logs.get(\"val_accuracy\") >= 0.85:\n",
        "      self.model.stop_training = True\n",
        "\n",
        "matop = Matrit()"
      ],
      "metadata": {
        "id": "qvaguuPT3WcZ"
      },
      "execution_count": 13,
      "outputs": []
    },
    {
      "cell_type": "code",
      "source": [
        "import tensorflow as tf\n",
        "\n",
        "from tensorflow.keras.layers import RandomFlip, RandomRotation, RandomZoom, RandomContrast, RandomTranslation\n",
        "\n",
        "inter = tf.keras.models.Sequential([\n",
        "    RandomFlip(\"horizontal_and_vertical\", input_shape=input_shape),\n",
        "    RandomRotation(0.2),\n",
        "    RandomZoom(0.2),\n",
        "    RandomContrast(0.2),\n",
        "    RandomTranslation(height_factor=0.2, width_factor=0.2)\n",
        "])\n",
        "\n",
        "model = tf.keras.models.Sequential([\n",
        "    inter,\n",
        "    intnet,\n",
        "    tf.keras.layers.GlobalAveragePooling2D(),\n",
        "    tf.keras.layers.Dense(1, activation=\"sigmoid\")\n",
        "])\n",
        "\n",
        "model.compile(optimizer=\"adam\", loss=\"binary_crossentropy\", metrics=[\"accuracy\"])\n",
        "\n",
        "plot = model.fit(train, validation_data=testi, epochs=10, callbacks=[matop])"
      ],
      "metadata": {
        "id": "qiZgN6wI1-kA",
        "outputId": "2b5d41dd-8297-4563-99ad-5907e9519c70",
        "colab": {
          "base_uri": "https://localhost:8080/"
        }
      },
      "execution_count": 14,
      "outputs": [
        {
          "output_type": "stream",
          "name": "stdout",
          "text": [
            "Epoch 1/10\n",
            "44/44 [==============================] - 146s 900ms/step - loss: 0.4586 - accuracy: 0.7927 - val_loss: 4.4990 - val_accuracy: 0.7356\n",
            "Epoch 2/10\n",
            "44/44 [==============================] - 32s 699ms/step - loss: 0.2908 - accuracy: 0.8875 - val_loss: 0.6111 - val_accuracy: 0.8506\n"
          ]
        }
      ]
    },
    {
      "cell_type": "code",
      "source": [
        "i = tf.keras.utils.load_img(os.path.join(os.path.join(rooter, \"Pria\"), \"pria (109).jpg\"), target_size=input_shape)\n",
        "\n",
        "i = tf.keras.utils.img_to_array(i)\n",
        "\n",
        "i = tf.expand_dims(i, axis=0)\n",
        "\n",
        "i.shape"
      ],
      "metadata": {
        "id": "sELsTjnq-2m9",
        "outputId": "d7620fd4-0074-46cf-c2b7-ca6b242fed1b",
        "colab": {
          "base_uri": "https://localhost:8080/"
        }
      },
      "execution_count": 15,
      "outputs": [
        {
          "output_type": "execute_result",
          "data": {
            "text/plain": [
              "TensorShape([1, 224, 224, 3])"
            ]
          },
          "metadata": {},
          "execution_count": 15
        }
      ]
    },
    {
      "cell_type": "code",
      "source": [
        "model.predict(i)"
      ],
      "metadata": {
        "id": "q-OoZkfu--FS",
        "outputId": "039af72c-1d05-41fe-a08d-c97abb1841e8",
        "colab": {
          "base_uri": "https://localhost:8080/"
        }
      },
      "execution_count": 16,
      "outputs": [
        {
          "output_type": "stream",
          "name": "stdout",
          "text": [
            "1/1 [==============================] - 6s 6s/step\n"
          ]
        },
        {
          "output_type": "execute_result",
          "data": {
            "text/plain": [
              "array([[0.8180012]], dtype=float32)"
            ]
          },
          "metadata": {},
          "execution_count": 16
        }
      ]
    },
    {
      "cell_type": "code",
      "source": [
        "i = tf.keras.utils.load_img(os.path.join(os.path.join(rooter, \"Perempuan\"), \"perempuan (1).jpg\"), target_size=input_shape)\n",
        "\n",
        "i = tf.keras.utils.img_to_array(i)\n",
        "\n",
        "i = tf.expand_dims(i, axis=0)\n",
        "\n",
        "model.predict(i)"
      ],
      "metadata": {
        "id": "1_RYBqew_246",
        "outputId": "7651b996-1527-4a23-c1d5-ce0d3e5fb8c6",
        "colab": {
          "base_uri": "https://localhost:8080/"
        }
      },
      "execution_count": 17,
      "outputs": [
        {
          "output_type": "stream",
          "name": "stdout",
          "text": [
            "1/1 [==============================] - 0s 39ms/step\n"
          ]
        },
        {
          "output_type": "execute_result",
          "data": {
            "text/plain": [
              "array([[0.00152673]], dtype=float32)"
            ]
          },
          "metadata": {},
          "execution_count": 17
        }
      ]
    },
    {
      "cell_type": "code",
      "source": [
        "t = \"/content/image/Perempuan/perempuan (280).jpg\"\n",
        "\n",
        "i = tf.keras.utils.load_img(t, target_size=input_shape)\n",
        "\n",
        "i = tf.keras.utils.img_to_array(i)\n",
        "\n",
        "i = tf.expand_dims(i, axis=0)\n",
        "\n",
        "model.predict(i)"
      ],
      "metadata": {
        "id": "dToEhiEOG140",
        "outputId": "f3ad608b-3e43-4912-c7cd-2785ede8a1ca",
        "colab": {
          "base_uri": "https://localhost:8080/"
        }
      },
      "execution_count": 18,
      "outputs": [
        {
          "output_type": "stream",
          "name": "stdout",
          "text": [
            "1/1 [==============================] - 0s 38ms/step\n"
          ]
        },
        {
          "output_type": "execute_result",
          "data": {
            "text/plain": [
              "array([[9.836403e-05]], dtype=float32)"
            ]
          },
          "metadata": {},
          "execution_count": 18
        }
      ]
    }
  ]
}